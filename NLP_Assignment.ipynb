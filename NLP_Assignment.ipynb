{
  "nbformat": 4,
  "nbformat_minor": 0,
  "metadata": {
    "colab": {
      "provenance": [],
      "authorship_tag": "ABX9TyPlHNHpZHAZfInDxR+VHWsX",
      "include_colab_link": true
    },
    "kernelspec": {
      "name": "python3",
      "display_name": "Python 3"
    },
    "language_info": {
      "name": "python"
    }
  },
  "cells": [
    {
      "cell_type": "markdown",
      "metadata": {
        "id": "view-in-github",
        "colab_type": "text"
      },
      "source": [
        "<a href=\"https://colab.research.google.com/github/dipenpadhiyar/SciforTechnologies/blob/main/NLP_Assignment.ipynb\" target=\"_parent\"><img src=\"https://colab.research.google.com/assets/colab-badge.svg\" alt=\"Open In Colab\"/></a>"
      ]
    },
    {
      "cell_type": "markdown",
      "source": [
        "# 1. What you understand by Text Processing? Write a code to perform text processing\n",
        "\n",
        "- Text processing involves transforming and manipulating text data to extract meaningful information. A basic example in Python using regular expressions to remove punctuation\n",
        "\n",
        "```python\n",
        "import re\n",
        "\n",
        "text = \"Hello, world! This is a sample text.\"\n",
        "processed_text = re.sub(r'[^\\w\\s]', '', text)\n",
        "print(processed_text)\n",
        "\n",
        "```\n",
        "\n",
        "# 2. What you understand by NLP toolkit and spacy library? Write a code in which any one gets used.\n",
        "\n",
        "- NLP toolkits are libraries that provide tools for working with natural language. SpaCy is a popular NLP library in Python. Example using SpaCy for tokenization.\n",
        "\n",
        "```python\n",
        "import spacy\n",
        "\n",
        "nlp = spacy.load(\"en_core_web_sm\")\n",
        "text = \"SpaCy is NLP library.\"\n",
        "doc = nlp(text)\n",
        "for token in doc:\n",
        "    print(token.text)\n",
        "\n",
        "```\n",
        "# 3. Describe Neural Networks and Deep Learning in Depth.\n",
        "\n",
        "- Neural networks are computational models inspired by the human brain. Deep learning involves training neural networks with multiple layers.\n",
        "\n",
        "```python\n",
        "import tensorflow as tf\n",
        "\n",
        "model = tf.keras.Sequential([\n",
        "    tf.keras.layers.Dense(128, activation='relu', input_shape=(10,)),\n",
        "    tf.keras.layers.Dense(1, activation='sigmoid')\n",
        "])\n",
        "```\n",
        "# 4. what you understand by Hyperparameter Tuning?\n",
        "\n",
        "- Hyperparameter tuning involves optimizing the configuration settings of a model to improve its performance.\n",
        "\n",
        "```python\n",
        "from sklearn.model_selection import GridSearchCV\n",
        "from sklearn.ensemble import RandomForestClassifier\n",
        "\n",
        "param_grid = {'n_estimators': [10, 50, 100]}\n",
        "model = RandomForestClassifier()\n",
        "grid_search = GridSearchCV(model, param_grid, cv=3)\n",
        "\n",
        "```\n",
        "\n",
        "# 5. What you understand by Ensemble Learning?\n",
        "\n",
        "- Ensemble learning combines predictions from multiple models to improve overall performance.\n",
        "\n",
        "```python\n",
        "# Random Forest\n",
        "from sklearn.ensemble import RandomForestClassifier\n",
        "\n",
        "model = RandomForestClassifier(n_estimators=100)\n",
        "```\n",
        "\n",
        "# 6.  What do you understand by Model Evaluation and Selection ?\n",
        "\n",
        "- Model evaluation involves assessing a model's performance, and selection is choosing the best-performing model. Example using cross-validation.\n",
        "\n",
        "```python\n",
        "from sklearn.model_selection import cross_val_score\n",
        "scores = cross_val_score(model, X, y, cv=5\n",
        "\n",
        "```\n",
        "\n",
        "# 7. What you understand by Feature Engineering and Feature selection? What is the difference between them?\n",
        "\n",
        "- Feature engineering involves creating new features from existing ones, while feature selection is about choosing the most relevant features.\n",
        "\n",
        "```python\n",
        "from sklearn.feature_selection import SelectKBest, f_classif\n",
        "\n",
        "selector = SelectKBest(f_classif, k=5)\n",
        "X_selected = selector.fit_transform(X, y)\n",
        "```\n",
        "\n"
      ],
      "metadata": {
        "id": "kL57iJj_6gAq"
      }
    }
  ]
}