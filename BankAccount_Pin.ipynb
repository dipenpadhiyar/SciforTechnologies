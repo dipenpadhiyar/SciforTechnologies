{
  "nbformat": 4,
  "nbformat_minor": 0,
  "metadata": {
    "colab": {
      "provenance": []
    },
    "kernelspec": {
      "name": "python3",
      "display_name": "Python 3"
    },
    "language_info": {
      "name": "python"
    }
  },
  "cells": [
    {
      "cell_type": "code",
      "execution_count": 1,
      "metadata": {
        "id": "qYX4VZl2afjd"
      },
      "outputs": [],
      "source": [
        "class BankAccount:\n",
        "    def __init__(self, account_number, pin, balance=0):\n",
        "        self.account_number = account_number\n",
        "        self.pin = pin\n",
        "        self.balance = balance\n",
        "\n",
        "    def deposit(self, amount):\n",
        "        self.balance += amount\n",
        "        print(f\"Deposited ₹{amount:.2f}. Current balance is ₹{self.balance:.2f}\")\n",
        "\n",
        "    def withdraw(self, amount):\n",
        "        if self.balance >= amount:\n",
        "            self.balance -= amount\n",
        "            print(f\"Withdrew ₹{amount:.2f}. Current balance is ₹{self.balance:.2f}\")\n",
        "        else:\n",
        "            print(\"Insufficient funds!\")\n",
        "\n",
        "    def check_balance(self):\n",
        "        print(f\"Account balance is ₹{self.balance:.2f}\")"
      ]
    },
    {
      "cell_type": "code",
      "source": [
        "account_number = \"123456789\"\n",
        "pin = \"1234\"\n",
        "\n",
        "my_account = BankAccount(account_number, pin)\n",
        "\n",
        "entered_pin = input(\"Enter your PIN: \")\n",
        "\n",
        "match entered_pin:\n",
        "    case my_account.pin:\n",
        "        print(\"PIN verified.\")\n",
        "        while True:\n",
        "            print(\"\\nWhat would you like to do?\")\n",
        "            print(\"1. Deposit\")\n",
        "            print(\"2. Withdraw\")\n",
        "            print(\"3. Check Balance\")\n",
        "            print(\"4. Exit\")\n",
        "\n",
        "            choice = input(\"Enter your choice (1-4): \")\n",
        "\n",
        "            match choice:\n",
        "                case \"1\":\n",
        "                    amount = float(input(\"Enter amount to deposit: ₹\"))\n",
        "                    my_account.deposit(amount)\n",
        "                case \"2\":\n",
        "                    amount = float(input(\"Enter amount to withdraw: ₹\"))\n",
        "                    my_account.withdraw(amount)\n",
        "                case \"3\":\n",
        "                    my_account.check_balance()\n",
        "                case \"4\":\n",
        "                    print(\"Thank you. Have a nice day!\")\n",
        "                    break\n",
        "                case _:\n",
        "                    print(\"Invalid choice. Please enter a number between 1 and 4.\")\n",
        "    case _:\n",
        "        print(\"Incorrect PIN. Access denied.\")"
      ],
      "metadata": {
        "colab": {
          "base_uri": "https://localhost:8080/"
        },
        "id": "05g5ydI9bYl6",
        "outputId": "f711cac1-ae06-4733-ae0e-8d0ebbe2a43a"
      },
      "execution_count": 2,
      "outputs": [
        {
          "output_type": "stream",
          "name": "stdout",
          "text": [
            "Enter your PIN: 1234\n",
            "PIN verified.\n",
            "\n",
            "What would you like to do?\n",
            "1. Deposit\n",
            "2. Withdraw\n",
            "3. Check Balance\n",
            "4. Exit\n",
            "Enter your choice (1-4): 1\n",
            "Enter amount to deposit: ₹1000\n",
            "Deposited ₹1000.00. Current balance is ₹1000.00\n",
            "\n",
            "What would you like to do?\n",
            "1. Deposit\n",
            "2. Withdraw\n",
            "3. Check Balance\n",
            "4. Exit\n",
            "Enter your choice (1-4): 4\n",
            "Thank you. Have a nice day!\n"
          ]
        }
      ]
    }
  ]
}